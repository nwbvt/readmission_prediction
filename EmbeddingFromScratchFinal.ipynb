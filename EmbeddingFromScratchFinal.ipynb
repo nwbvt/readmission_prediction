{
 "cells": [
  {
   "cell_type": "code",
   "execution_count": 7,
   "id": "13a0d997",
   "metadata": {},
   "outputs": [],
   "source": [
    "from math import floor\n",
    "import pandas as pd\n",
    "import torch\n",
    "import torch.nn as nn\n",
    "from torch.utils.data import DataLoader\n",
    "from torch.nn.init import xavier_uniform_\n",
    "import torch.nn.functional as F\n",
    "import torch.optim as optim\n",
    "from sklearn.metrics import average_precision_score, precision_recall_curve\n",
    "import matplotlib\n",
    "import matplotlib.pyplot as plt\n",
    "import data\n",
    "import model as md\n",
    "\n"
   ]
  },
  {
   "cell_type": "code",
   "execution_count": 2,
   "id": "227f2172",
   "metadata": {},
   "outputs": [],
   "source": [
    "vocab_size = 10000\n",
    "train_ds = data.load_dataset(\"data/train.csv\", vocab_size=vocab_size)\n",
    "train_loader = DataLoader(train_ds, batch_size=10, collate_fn=data.collate, shuffle=True)\n",
    "test_ds = data.load_dataset(\"data/test.csv\", encoding=train_ds.encoding)\n",
    "test_loader = DataLoader(test_ds, batch_size=10, collate_fn=data.collate, shuffle=False)"
   ]
  },
  {
   "cell_type": "code",
   "execution_count": 5,
   "id": "70b3f709",
   "metadata": {
    "scrolled": true
   },
   "outputs": [
    {
     "name": "stdout",
     "output_type": "stream",
     "text": [
      "Epoch 0\tTraining Loss: 0.222295\tTrain APS: 0.217962\tTest APS: 0.152897\tTime Taken: 593.18 seconds\n",
      "Epoch 1\tTraining Loss: 0.210024\tTrain APS: 0.259529\tTest APS: 0.170490\tTime Taken: 618.64 seconds\n"
     ]
    }
   ],
   "source": [
    "model = md.ConvAttModel(vocab_size=vocab_size, kernel_size=10, num_filter_maps=16, embed_size=100, dropout=0.5)\n",
    "\n",
    "md.train(model, train_loader, test_loader, 2, weight_decay=0.00001)"
   ]
  },
  {
   "cell_type": "code",
   "execution_count": 8,
   "id": "b2dd5ee4",
   "metadata": {},
   "outputs": [
    {
     "data": {
      "image/png": "[encoded data removed]",
      "text/plain": [
       "<Figure size 432x288 with 1 Axes>"
      ]
     },
     "metadata": {
      "needs_background": "light"
     },
     "output_type": "display_data"
    }
   ],
   "source": [
    "y_true, y_pred = md.predict(model, test_loader)\n",
    "\n",
    "precision, recall, thresholds = precision_recall_curve(y_true, y_pred)\n",
    "\n",
    "fig, axis = plt.subplots()\n",
    "axis.plot(recall, precision)\n",
    "axis.set(xlabel=\"recall\", ylabel=\"precision\", title=\"Precision Recall Curve\")\n",
    "fig.show()"
   ]
  },
  {
   "cell_type": "code",
   "execution_count": 9,
   "id": "5d0d673a",
   "metadata": {},
   "outputs": [
    {
     "data": {
      "text/plain": [
       "0.17049022821615795"
      ]
     },
     "execution_count": 9,
     "metadata": {},
     "output_type": "execute_result"
    }
   ],
   "source": [
    "average_precision_score(y_true, y_pred)"
   ]
  },
  {
   "cell_type": "code",
   "execution_count": null,
   "id": "75320862",
   "metadata": {},
   "outputs": [],
   "source": []
  }
 ],
 "metadata": {
  "kernelspec": {
   "display_name": "Python 3",
   "language": "python",
   "name": "python3"
  },
  "language_info": {
   "codemirror_mode": {
    "name": "ipython",
    "version": 3
   },
   "file_extension": ".py",
   "mimetype": "text/x-python",
   "name": "python",
   "nbconvert_exporter": "python",
   "pygments_lexer": "ipython3",
   "version": "3.8.5"
  }
 },
 "nbformat": 4,
 "nbformat_minor": 5
}
